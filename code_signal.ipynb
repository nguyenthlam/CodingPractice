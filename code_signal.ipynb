{
 "cells": [
  {
   "cell_type": "markdown",
   "metadata": {},
   "source": [
    "# This is notebook for CodeSignal practice tests"
   ]
  },
  {
   "cell_type": "code",
   "execution_count": 27,
   "metadata": {},
   "outputs": [],
   "source": [
    "import numpy as np"
   ]
  },
  {
   "cell_type": "markdown",
   "metadata": {},
   "source": [
    "# Rotate Matrix\n",
    "\n",
    "You are given an n x n 2D matrix that represents an image. Rotate the image by 90 degrees (clockwise).\n"
   ]
  },
  {
   "cell_type": "code",
   "execution_count": 32,
   "metadata": {},
   "outputs": [],
   "source": [
    "def rotateImage(a):\n",
    "    n = len(a)\n",
    "    m1 = n//2\n",
    "    m2 = m1 + n % 2\n",
    "    \n",
    "    for i in range(m2):\n",
    "        for j in range(m1):\n",
    "            tem = a[i][j]\n",
    "            a[i][j] = a[n-1-j][i]\n",
    "            a[n-1-j][i] = a[n-1-i][n-1-j]\n",
    "            a[n-1-i][n-1-j] = a[j][n-1-i]\n",
    "            a[j][n-1-i] = tem\n",
    "            \n",
    "    return a"
   ]
  },
  {
   "cell_type": "code",
   "execution_count": 29,
   "metadata": {},
   "outputs": [
    {
     "name": "stdout",
     "output_type": "stream",
     "text": [
      "[[1 2 3]\n",
      " [4 5 6]\n",
      " [7 8 9]]\n"
     ]
    }
   ],
   "source": [
    "a = [[1, 2, 3],\n",
    "     [4, 5, 6],\n",
    "     [7, 8, 9]]\n",
    "print(np.matrix(a))"
   ]
  },
  {
   "cell_type": "markdown",
   "metadata": {},
   "source": [
    "the output should be\n",
    "rotateImage(a) = "
   ]
  },
  {
   "cell_type": "code",
   "execution_count": 33,
   "metadata": {},
   "outputs": [
    {
     "name": "stdout",
     "output_type": "stream",
     "text": [
      "[[7 4 1]\n",
      " [8 5 2]\n",
      " [9 6 3]]\n"
     ]
    }
   ],
   "source": [
    "r = rotateImage(a)\n",
    "print(np.matrix(r))"
   ]
  },
  {
   "cell_type": "code",
   "execution_count": 7,
   "metadata": {},
   "outputs": [
    {
     "ename": "ValueError",
     "evalue": "invalid literal for int() with base 10: '.'",
     "output_type": "error",
     "traceback": [
      "\u001b[0;31m---------------------------------------------------------------------------\u001b[0m",
      "\u001b[0;31mValueError\u001b[0m                                Traceback (most recent call last)",
      "\u001b[0;32m<ipython-input-7-647a0980c381>\u001b[0m in \u001b[0;36m<module>\u001b[0;34m\u001b[0m\n\u001b[1;32m      1\u001b[0m \u001b[0ma\u001b[0m \u001b[0;34m=\u001b[0m \u001b[0;34m\".\"\u001b[0m\u001b[0;34m\u001b[0m\u001b[0;34m\u001b[0m\u001b[0m\n\u001b[0;32m----> 2\u001b[0;31m \u001b[0mint\u001b[0m\u001b[0;34m(\u001b[0m\u001b[0ma\u001b[0m\u001b[0;34m)\u001b[0m\u001b[0;34m\u001b[0m\u001b[0;34m\u001b[0m\u001b[0m\n\u001b[0m",
      "\u001b[0;31mValueError\u001b[0m: invalid literal for int() with base 10: '.'"
     ]
    }
   ],
   "source": [
    "a = \".\"\n",
    "int(a)"
   ]
  },
  {
   "cell_type": "markdown",
   "metadata": {},
   "source": [
    "# First Duplicate\n",
    "\n",
    "Given an array a that contains only numbers in the range from *1* to *a.length*, find the first duplicate **number** for which the second occurrence has the minimal index. In other words, if there are more than 1 duplicated numbers, return the **number** for which the second occurrence has a smaller index than the second occurrence of the other number does. If there are no such elements, return *-1*."
   ]
  },
  {
   "cell_type": "code",
   "execution_count": 34,
   "metadata": {},
   "outputs": [],
   "source": [
    "def firstDuplicate(a):\n",
    "\n",
    "    res = -1\n",
    "    maxa = max(a) + 1\n",
    "    count = [0]*maxa\n",
    "    \n",
    "    for n in a: \n",
    "        count[n] += 1\n",
    "        if count[n] == 2:\n",
    "            res = n\n",
    "            break    \n",
    "\n",
    "    return res"
   ]
  },
  {
   "cell_type": "code",
   "execution_count": 35,
   "metadata": {},
   "outputs": [
    {
     "name": "stdout",
     "output_type": "stream",
     "text": [
      "3\n"
     ]
    }
   ],
   "source": [
    "a = [2, 1, 3, 5, 3, 2]\n",
    "r = firstDuplicate(a)\n",
    "print(r)"
   ]
  },
  {
   "cell_type": "markdown",
   "metadata": {},
   "source": [
    "# First non repeating character\n",
    "\n",
    "Given a string *s* consisting of small English letters, find and return the first instance of a non-repeating character in it. If there is no such character, return *'_'*."
   ]
  },
  {
   "cell_type": "code",
   "execution_count": 36,
   "metadata": {},
   "outputs": [],
   "source": [
    "def firstNotRepeatingCharacter(s):\n",
    "    \n",
    "    a = 'abcdefghijklmnoqrstuvwxyz'\n",
    "    ch = [c for c in a] # make a list of the alphabet\n",
    "    l = len(a) # for sure length a = 26\n",
    "    \n",
    "    count = [0]*l # initiate counting\n",
    "    loc = [0]*l # initiate locations\n",
    "    \n",
    "    res = '_' # default result if nothing happens\n",
    "    \n",
    "    ls = len(s)\n",
    "    \n",
    "    for n in range(ls):\n",
    "        c = s[n]\n",
    "        for m in range(l): \n",
    "            if c == ch[m]: \n",
    "                count[m] += 1\n",
    "                loc[m] = n\n",
    "                break\n",
    "                \n",
    "    minl = ls\n",
    "    \n",
    "    for n in range(l):\n",
    "        if count[n] == 1:\n",
    "            if minl > loc[n]: \n",
    "                minl = loc[n]\n",
    "                res = ch[n]\n",
    "                \n",
    "    return res\n",
    "    \n",
    "    "
   ]
  },
  {
   "cell_type": "code",
   "execution_count": 38,
   "metadata": {},
   "outputs": [
    {
     "name": "stdout",
     "output_type": "stream",
     "text": [
      "c\n"
     ]
    }
   ],
   "source": [
    "s = \"abacabad\"\n",
    "fc = firstNotRepeatingCharacter(s)\n",
    "print(fc)"
   ]
  },
  {
   "cell_type": "markdown",
   "metadata": {},
   "source": [
    "# Compose ranges\n",
    "\n",
    "Given a sorted integer array that does not contain any duplicates, return a summary of the number ranges it contains."
   ]
  },
  {
   "cell_type": "code",
   "execution_count": 43,
   "metadata": {},
   "outputs": [],
   "source": [
    "def composeRanges(nums):\n",
    "    \n",
    "    length = len(nums)\n",
    "    if length == 0:\n",
    "        return []\n",
    "    \n",
    "    elif length == 1:\n",
    "        return [str(nums[0])]\n",
    "    \n",
    "    else:\n",
    "        res=[]\n",
    "        a = nums[0]\n",
    "        b = a\n",
    "        for n in range(1,length): \n",
    "            c = nums[n]\n",
    "            if c < b + 2:\n",
    "                if n < length - 1:\n",
    "                    b = c\n",
    "                    pass\n",
    "                else:\n",
    "                    s = str(a) + \"->\" + str(c)\n",
    "            \n",
    "                    res.append(s)\n",
    "            else:\n",
    "                s = str(a)\n",
    "                if b > a:\n",
    "                    s = s + \"->\" + str(b)\n",
    "                res.append(s)\n",
    "                a = c\n",
    "                b = c \n",
    "                if n == length - 1:\n",
    "                    res.append(str(c))\n",
    "                    \n",
    "        return res\n",
    "                    \n",
    "                    "
   ]
  },
  {
   "cell_type": "code",
   "execution_count": 44,
   "metadata": {},
   "outputs": [
    {
     "name": "stdout",
     "output_type": "stream",
     "text": [
      "['-1->2', '6->7', '9']\n"
     ]
    }
   ],
   "source": [
    "nums = [-1, 0, 1, 2, 6, 7, 9]\n",
    "r = composeRanges(nums)\n",
    "print(r)"
   ]
  },
  {
   "cell_type": "markdown",
   "metadata": {},
   "source": [
    "# House robber\n",
    "\n",
    "You are planning to rob houses on a specific street, and you know that every house on the street has a certain amount of money hidden. The only thing stopping you from robbing all of them in one night is that adjacent houses on the street have a connected security system. The system will automatically trigger an alarm if two adjacent houses are broken into on the same night.\n",
    "\n",
    "Given a list of non-negative integers *nums* representing the amount of money hidden in each house, determine the maximum amount of money you can rob in one night without triggering an alarm."
   ]
  },
  {
   "cell_type": "code",
   "execution_count": 45,
   "metadata": {},
   "outputs": [],
   "source": [
    "def houseRobber(nums):\n",
    "    length = len(nums)\n",
    "    if length <=1:\n",
    "        return sum(nums)\n",
    "    elif length == 2:\n",
    "        return max(nums)\n",
    "    elif length == 3:\n",
    "        return max(nums[0] + nums[2], nums[1])\n",
    "    elif length > 3:\n",
    "        a = nums[0]\n",
    "        b = max(a,nums[1])\n",
    "        c = max(nums[0] + nums[2], nums[1])\n",
    "        \n",
    "        for n in range(3,length):\n",
    "            d = max(nums[n] + b, nums[n-1] + a)\n",
    "            a = b\n",
    "            b = c\n",
    "            c = d\n",
    "            \n",
    "        return max(b, c)\n",
    "        "
   ]
  },
  {
   "cell_type": "code",
   "execution_count": 46,
   "metadata": {},
   "outputs": [
    {
     "name": "stdout",
     "output_type": "stream",
     "text": [
      "1489\n"
     ]
    }
   ],
   "source": [
    "nums = [232, 161, 89, 177, 117, 212, 126, 247, 155, 197, 88, 217, 81, 207]\n",
    "r = houseRobber(nums)\n",
    "print(r)"
   ]
  },
  {
   "cell_type": "markdown",
   "metadata": {},
   "source": [
    "# Climb stairs\n",
    "\n",
    "You are climbing a staircase that has *n* steps. You can take the steps either 1 or 2 at a time. Calculate how many distinct ways you can climb to the top of the staircase."
   ]
  },
  {
   "cell_type": "code",
   "execution_count": 47,
   "metadata": {},
   "outputs": [
    {
     "name": "stdout",
     "output_type": "stream",
     "text": [
      "10946\n"
     ]
    }
   ],
   "source": [
    "def climbingStairs(n):\n",
    "    if n == 1:\n",
    "        return 1\n",
    "    \n",
    "    elif n == 2: \n",
    "        return 2\n",
    "\n",
    "    else:\n",
    "        a = 1\n",
    "        b = 2\n",
    "        for i in range(n-2):\n",
    "            c = b\n",
    "            b = a + b\n",
    "            a = c \n",
    "        return b\n",
    "    \n",
    "n = 20\n",
    "print(climbingStairs(n))"
   ]
  },
  {
   "cell_type": "markdown",
   "metadata": {},
   "source": [
    "# Sudoku\n",
    "\n",
    "*Sudoku* is a number-placement puzzle. The objective is to fill a *9 × 9* grid with numbers in such a way that each column, each row, and each of the nine *3 × 3* sub-grids that compose the grid all contain all of the numbers from *1  to 9* one time.\n",
    "\n",
    "Implement an algorithm that will check whether the given grid of numbers represents a valid *Sudoku* puzzle according to the layout rules described above. Note that the puzzle represented by grid does not have to be solvable."
   ]
  },
  {
   "cell_type": "code",
   "execution_count": 26,
   "metadata": {},
   "outputs": [],
   "source": [
    "def sudoku2(grid):\n",
    "#   scenarios that make result False:\n",
    "#   grid[i][j1] = grid[i][j2]  \n",
    "#   grid[i1][j] = grid[i2][j]\n",
    "#   grid[i1][j1] = grid[i2][j2] with |i1-i2|<3 and |j1-j2|<3\n",
    "    \n",
    "    res = True\n",
    "    \n",
    "    nums = []\n",
    "    iloc = []\n",
    "    jloc = []\n",
    "    \n",
    "    for i in range(9):   \n",
    "        for j in range(9):\n",
    "            n = grid[i][j]\n",
    "            try:\n",
    "                n = int(n)\n",
    "                        \n",
    "            except ValueError: \n",
    "                continue\n",
    "            \n",
    "            nums.append(n)\n",
    "            iloc.append(i+1)\n",
    "            jloc.append(j+1)\n",
    "\n",
    "    for n in range(len(nums) - 1):\n",
    "        n1 = nums[n]\n",
    "        i1 = iloc[n]\n",
    "        j1 = jloc[n]\n",
    "        \n",
    "        if res == False:\n",
    "            break\n",
    "            \n",
    "        for m in range(n+1,len(nums)):\n",
    "            n2 = nums[m]\n",
    "            i2 = iloc[m]\n",
    "            j2 = jloc[m]\n",
    "            \n",
    "            if n1 == n2:\n",
    "                if i1 == i2 or j1 == j2:\n",
    "                    res = False\n",
    "                    print(n1,i1,j1)\n",
    "                    print(n1,i2,j2)\n",
    "                    break\n",
    "                    \n",
    "                if (i1 - 1) // 3 == (i2 - 1) // 3 and (j1 - 1) // 3 == (j2 - 1) // 3:\n",
    "                    res = False\n",
    "                    print(n1,i1,j1)\n",
    "                    print(n1,i2,j2)\n",
    "                    break\n",
    "                    \n",
    "\n",
    "    return res\n",
    "                      "
   ]
  },
  {
   "cell_type": "code",
   "execution_count": 27,
   "metadata": {},
   "outputs": [
    {
     "data": {
      "text/plain": [
       "True"
      ]
     },
     "execution_count": 27,
     "metadata": {},
     "output_type": "execute_result"
    }
   ],
   "source": [
    "grid = [[\".\",\"9\",\".\",\".\",\"4\",\".\",\".\",\".\",\".\"], \n",
    " [\"1\",\".\",\".\",\".\",\".\",\".\",\"6\",\".\",\".\"], \n",
    " [\".\",\".\",\"3\",\".\",\".\",\".\",\".\",\".\",\".\"], \n",
    " [\".\",\".\",\".\",\".\",\".\",\".\",\".\",\".\",\".\"], \n",
    " [\".\",\".\",\".\",\"7\",\".\",\".\",\".\",\".\",\".\"], \n",
    " [\"3\",\".\",\".\",\".\",\"5\",\".\",\".\",\".\",\".\"], \n",
    " [\".\",\".\",\"7\",\".\",\".\",\"4\",\".\",\".\",\".\"], \n",
    " [\".\",\".\",\".\",\".\",\".\",\".\",\".\",\".\",\".\"], \n",
    " [\".\",\".\",\".\",\".\",\"7\",\".\",\".\",\".\",\".\"]]\n",
    "\n",
    "sudoku2(grid)"
   ]
  },
  {
   "cell_type": "markdown",
   "metadata": {},
   "source": [
    "# Optimal flight routes\n",
    "\n",
    "Max operating distance of airplane = maxd\n",
    "\n",
    "List of forward routes = forr. First index for route number, second for distance.\n",
    "\n",
    "List of return routes = retr. First index for route number, second for distance.\n",
    "\n",
    "Find the list of pairs of routes that are optimal: distance route 1 + route 2 <= maxd\n"
   ]
  },
  {
   "cell_type": "code",
   "execution_count": 102,
   "metadata": {},
   "outputs": [],
   "source": [
    "def opti(maxd,forr,retr):\n",
    "    \n",
    "    l1 = len(forr)\n",
    "    l2 = len(retr)\n",
    "    dop = 0\n",
    "    check = 0\n",
    "    for r1 in forr:\n",
    "        i = r1[0]\n",
    "        d1 = r1[1]\n",
    "        for r2 in retr:\n",
    "            j = r2[0]\n",
    "            d2=r2[1]\n",
    "            \n",
    "            if d1+d2==maxd:\n",
    "                if check == 0:\n",
    "                    r = [[i,j]]\n",
    "                else:\n",
    "                    r = r+[[i,j]]\n",
    "                    check = 1\n",
    "            elif d1+d2>dop and d1+d2<maxd:\n",
    "                dop = d1+d2\n",
    "    if check == 0 and dop > 0:\n",
    "        for r1 in forr:\n",
    "            i = r1[0]\n",
    "            d1 = r1[1] \n",
    "            for r2 in retr:\n",
    "                j = r2[0]\n",
    "                d2=r2[1]\n",
    "                \n",
    "                if d1+d2==dop:\n",
    "                    r = r+ [[i,j]]\n",
    "    return r"
   ]
  },
  {
   "cell_type": "code",
   "execution_count": 79,
   "metadata": {},
   "outputs": [
    {
     "data": {
      "text/plain": [
       "[[3, 2], [1, 2]]"
      ]
     },
     "execution_count": 79,
     "metadata": {},
     "output_type": "execute_result"
    }
   ],
   "source": [
    "maxd = 20\n",
    "forr = [[1,8],[2,15],[3,9]]\n",
    "retr = [[1,8],[2,11],[3,12]]\n",
    "\n",
    "opti(maxd,forr,retr)"
   ]
  },
  {
   "cell_type": "markdown",
   "metadata": {},
   "source": [
    "# Decoding signal\n",
    "\n",
    "A top secret message containing uppercase letters from 'A' to 'Z' has been encoded as numbers using the following mapping:\n",
    "\n",
    "'A' -> 1\n",
    "'B' -> 2\n",
    "...\n",
    "'Z' -> 26\n",
    "\n",
    "You are an FBI agent and you need to determine the total number of ways that the message can be decoded.\n",
    "\n",
    "Since the answer could be very large, take it modulo $10^{9}$ + 7\n",
    "\n",
    "Example\n",
    "\n",
    "For message = \"123\", the output should be\n",
    "mapDecoding(message) = 3.\n",
    "\n",
    "\"123\" can be decoded as \"ABC\" (1 2 3), \"LC\" (12 3) or \"AW\" (1 23), so the total number of ways is 3.\n",
    "\n",
    "Clues:\n",
    "\n",
    "The digit '0' is special:\n",
    "\n",
    "Any message that starts with the digit '0' is automatically invalid. Note that not all message strings are guaranteed to encode valid messages. (See test 6 - message = '301' has zero valid decodings.)\n",
    "Treat the numbers '10' and '20' carefully. They are valid two digit numbers, but cannot be split because of the trailing zeros.\n",
    "If the digit sequences '00', '30', '40', '50', ...,'90' ever show up, there are no valid decodings of the string, because these aren't valid two digit numbers for our decoding, and they cannot be split.\n",
    "The base cases can be tricky.\n",
    "\n",
    "If message has length 0, there is one valid decoding - the empty message.\n",
    "If message has length 1, then the message has one valid decoding unless message == '0', in which case there are no valid decodings.\n",
    "If message has length 2, there might be zero valid decodings, one valid decoding, or two valid decodings.\n",
    "Build up an array of partial solutions partial[i]. Use the base cases to determine how many valid decodings of just the last two characters there are, so partial[0] stores the number of decodings of just the last character, partial[1] stores the number of valid decodings of the last two characters, etc. Keep track of the ith character, and the (i-1)th character from the end of the string, and use partial[i-1] and partial[i-2] to determine the partial[i+1]. If the pair of numbers can be interpreted as either two one-digit numbers or a single two-digit number, then partial[i] = partial[i-1] + partial[i-2]. The tricky part will be determining if you are allowed to split the characters. Once you are done, return the last element in partial."
   ]
  },
  {
   "cell_type": "code",
   "execution_count": 3,
   "metadata": {},
   "outputs": [],
   "source": [
    "def mapDecoding(message):\n",
    "    # a number can be decompsed if <= 26\n",
    "    # if length = length of message\n",
    "    # if message[length - 1] < 7 and message[length - 2] < 3:\n",
    "    # s(length) = s(length - 1) + s(length - 2)\n",
    "    # else:\n",
    "    # s(length) = s(length - 1)\n",
    "    # \n",
    "    \n",
    "    length = len(message)\n",
    "    \n",
    "    if length == 0:\n",
    "        return 1\n",
    "    elif length == 1:\n",
    "        if message[0] == '0':\n",
    "            return 0\n",
    "        else:\n",
    "            return 1\n",
    "        \n",
    "    else:\n",
    "        s_2 = 0\n",
    "        s_1 = 1\n",
    "        n_1 = 3\n",
    "        s = 1\n",
    "        for c in message:\n",
    "            n = int(c)\n",
    "            if n == 0:\n",
    "                if n_1 > 2 or n_1 == 0:\n",
    "                    s = 0\n",
    "                    break\n",
    "                else:\n",
    "                    s = s_2 % (10 ** 9 + 7)\n",
    "                    s_2 = s_1\n",
    "                    s_1 = s\n",
    "            else:\n",
    "                if n_1 == 1 or (n_1 == 2 and n < 7):\n",
    "                    s = s_2 + s_1\n",
    "                s = s % (10 ** 9 + 7)\n",
    "                s_2 = s_1\n",
    "                s_1 = s\n",
    "                \n",
    "                    \n",
    "            n_1 = n\n",
    "            \n",
    "            print('for', c, 'count = ', s)\n",
    "        \n",
    "            \n",
    "        return s % (10 ** 9 + 7)\n"
   ]
  },
  {
   "cell_type": "code",
   "execution_count": 4,
   "metadata": {},
   "outputs": [
    {
     "name": "stdout",
     "output_type": "stream",
     "text": [
      "for 1 count =  1\n",
      "for 1 count =  2\n",
      "for 1 count =  3\n",
      "for 6 count =  5\n",
      "for 1 count =  5\n",
      "for 1 count =  10\n",
      "for 6 count =  15\n",
      "for 1 count =  15\n",
      "for 2 count =  30\n",
      "for 1 count =  45\n",
      "for 9 count =  75\n",
      "for 2 count =  75\n",
      "for 1 count =  150\n",
      "for 1 count =  225\n",
      "for 1 count =  375\n",
      "for 2 count =  600\n",
      "for 4 count =  975\n",
      "for 1 count =  975\n"
     ]
    },
    {
     "data": {
      "text/plain": [
       "975"
      ]
     },
     "execution_count": 4,
     "metadata": {},
     "output_type": "execute_result"
    }
   ],
   "source": [
    "message = \"111611612192111241\"\n",
    "mapDecoding(message)"
   ]
  },
  {
   "cell_type": "code",
   "execution_count": 44,
   "metadata": {},
   "outputs": [],
   "source": [
    "def mapDecoding_by_k_lee(msg):\n",
    "    a, b = 1, 0\n",
    "    M = 10 ** 9 + 7\n",
    "    for i in range(len(msg)-1, -1, -1):\n",
    "        if msg[i] == \"0\":\n",
    "            a, b = 0, a\n",
    "        else:\n",
    "            a, b = (a + (i+2 <= len(msg) and msg[i:i+2] <= \"26\") * b) % M, a\n",
    "    return a"
   ]
  },
  {
   "cell_type": "code",
   "execution_count": 46,
   "metadata": {},
   "outputs": [],
   "source": [
    "def mapDecoding_by_gerardold(message):\n",
    "    prev = count = 0\n",
    "    curr = 1\n",
    "    \n",
    "    for i in range(len(message)):\n",
    "        digit = ord(message[i]) - 48\n",
    "        number = 0\n",
    "        if i > 0:\n",
    "            number = (ord(message[i - 1]) - 48) * 10 + digit\n",
    "        if digit > 0: count = curr\n",
    "        if number <= 26 and number > 9: count += prev\n",
    "        prev = curr\n",
    "        curr = count % 1000000007\n",
    "        count = 0\n",
    "    return curr"
   ]
  },
  {
   "cell_type": "code",
   "execution_count": 53,
   "metadata": {},
   "outputs": [],
   "source": [
    "def mapDecoding_by_nivekium(message):\n",
    "     if len(message) == 0:\n",
    "          return 1\n",
    "     d = [0] * (len(message)+1)    \n",
    "     d[0] = 1\n",
    "     for i in range(len(message)):     \n",
    "          r = 0\n",
    "          if int(message[-i-1]) in range(1,10):\n",
    "               r += d[i]\n",
    "               \n",
    "          if i > 0 and int(message[-i-1:][0:2]) in range(10,27):\n",
    "               r += d[i-1]          \n",
    "          d[i+1] = r #% (10**9+7)\n",
    "          print(i+1,message[i],d[i+1])\n",
    "     return d[len(message)]"
   ]
  },
  {
   "cell_type": "code",
   "execution_count": 55,
   "metadata": {},
   "outputs": [
    {
     "name": "stdout",
     "output_type": "stream",
     "text": [
      "100\n"
     ]
    },
    {
     "data": {
      "text/plain": [
       "573147844013817084101"
      ]
     },
     "execution_count": 55,
     "metadata": {},
     "output_type": "execute_result"
    }
   ],
   "source": [
    "message = '1221112111122221211221221212212212111221222212122221222112122212121212221212122221211112212212211211'\n",
    "print(len(message))\n",
    "# for c in message[1:]:\n",
    "#     print(c)\n",
    "mapDecoding(message)\n",
    "#mapDecoding_by_k_lee(message)\n",
    "#mapDecoding_by_nivekium(message)"
   ]
  },
  {
   "cell_type": "markdown",
   "metadata": {},
   "source": [
    "## Filling blocks\n",
    "\n",
    "You have a block with the dimensions 4 × n. Find the number of different ways you can fill this block with smaller blocks that have the dimensions 1 × 2. You are allowed to rotate the smaller blocks.\n",
    "\n",
    "EXAMPLE\n",
    "\n",
    "* For n = 1, the output should be\n",
    "fillingBlocks(n) = 1.\n",
    "\n",
    "There is only one possible way to arrange the smaller 1 × 2 blocks inside the 4 × 1 block.\n",
    "\n",
    "* For n = 4, the output should be\n",
    "fillingBlocks(n) = 36.\n",
    "\n",
    "Here are the 36 possible configuration of smaller blocks inside the 4 × 4 block:"
   ]
  },
  {
   "cell_type": "code",
   "execution_count": 74,
   "metadata": {},
   "outputs": [
    {
     "data": {
      "image/png": "[encoded data removed]",
      "text/plain": [
       "<IPython.core.display.Image object>"
      ]
     },
     "execution_count": 74,
     "metadata": {
      "image/png": {
       "height": 400,
       "width": 400
      }
     },
     "output_type": "execute_result"
    }
   ],
   "source": [
    "from IPython.display import Image\n",
    "Image('fillingBlock.png', width=400, height=400)"
   ]
  },
  {
   "cell_type": "code",
   "execution_count": 71,
   "metadata": {},
   "outputs": [],
   "source": [
    "def fillingBlocks(n):\n",
    "    \n",
    "#     the key is to find the number of arrangement that cannot be further divided\n",
    "#     for 4 x 1, of course there is only ind[1] = 1 indivisible arrangement\n",
    "#     for 4 x 2, there are 5 arrangement, ind[2] = 4 of them are indivisible\n",
    "#     for 4 x j with j > 2:\n",
    "#         there are ind[j] = 2 indivisibles if j is odd\n",
    "#         there are ind[j] = 3 indivisibles if j is even\n",
    "#     s[n] = sum(ind[i]*s[i]) for i from 1 to n\n",
    "#     note that s[0] = 1\n",
    "        \n",
    "    s = [0]*(n+3)\n",
    "    s[0] = 1\n",
    "    s[1] = 1\n",
    "    s[2] = 5\n",
    "    if n > 2:\n",
    "        for i in range(3,n+1):\n",
    "            s[i] = s[i - 1] + 4 * s[i - 2]\n",
    "            for j in range(3,i+1):\n",
    "                s[i] += s[i - j] * (3 - j % 2)\n",
    "                \n",
    "    return s[n]"
   ]
  },
  {
   "cell_type": "code",
   "execution_count": 72,
   "metadata": {},
   "outputs": [
    {
     "data": {
      "text/plain": [
       "281"
      ]
     },
     "execution_count": 72,
     "metadata": {},
     "output_type": "execute_result"
    }
   ],
   "source": [
    "fillingBlocks(6)"
   ]
  },
  {
   "cell_type": "markdown",
   "metadata": {},
   "source": [
    "## Maximal square\n",
    "\n",
    "You have a 2D binary matrix that's filled with 0s and 1s. In the matrix, find the largest square that contains only 1s and return its area.\n",
    "\n",
    "Example\n",
    "\n",
    "For\n",
    "\n"
   ]
  },
  {
   "cell_type": "code",
   "execution_count": 38,
   "metadata": {},
   "outputs": [],
   "source": [
    "matrix = [\n",
    "    ['1', '0', '1', '1', '1'], \n",
    "    ['1', '0', '1', '1', '1'],\n",
    "    ['1', '1', '1', '1', '1'],    \n",
    "    ['1', '0', '0', '1', '0'],\n",
    "    ['1', '0', '0', '1', '0']   \n",
    "]"
   ]
  },
  {
   "cell_type": "markdown",
   "metadata": {},
   "source": [
    "the output should be\n",
    "maximalSquare(matrix) = 9."
   ]
  },
  {
   "cell_type": "code",
   "execution_count": 75,
   "metadata": {},
   "outputs": [],
   "source": [
    "matrix = [['1']]"
   ]
  },
  {
   "cell_type": "code",
   "execution_count": 80,
   "metadata": {},
   "outputs": [],
   "source": [
    "def maximalsquare(matrix):\n",
    "    \n",
    "    import numpy as np\n",
    "    \n",
    "    matrix = [[int(c) for c in row] for row in matrix]\n",
    "    \n",
    "    arr = np.matrix(matrix)\n",
    "    \n",
    "    nrow, ncol = arr.shape\n",
    "    print(nrow,ncol)\n",
    "    #print(arr[0:2,0:4])\n",
    "    #print(arr.sum())\n",
    "    \n",
    "    size = 0\n",
    "    \n",
    "    for n in range(nrow):\n",
    "        for m in range(ncol):\n",
    "            lmax = min(nrow-n, ncol-m)\n",
    "            if size < lmax:\n",
    "                smax = size\n",
    "                for l in range(size,lmax):\n",
    "                    sub = arr[n:n+l+1,m:m+l+1]\n",
    "                    s = sub.sum()\n",
    "                    if s == (l+1)*(l+1):\n",
    "                        if l+1 > smax:\n",
    "                            smax = l + 1\n",
    "                    else:\n",
    "                        break\n",
    "                        \n",
    "                size = smax\n",
    "    \n",
    "    return size*size\n",
    "                \n",
    "    "
   ]
  },
  {
   "cell_type": "code",
   "execution_count": 81,
   "metadata": {},
   "outputs": [
    {
     "name": "stdout",
     "output_type": "stream",
     "text": [
      "1 1\n"
     ]
    },
    {
     "data": {
      "text/plain": [
       "1"
      ]
     },
     "execution_count": 81,
     "metadata": {},
     "output_type": "execute_result"
    }
   ],
   "source": [
    "# matrix = [[int(c) for c in row] for row in matrix]\n",
    "# print(sum(map(sum,matrix)))\n",
    "# subm = matrix[1:2,2:3]\n",
    "\n",
    "maximalsquare(matrix)"
   ]
  },
  {
   "cell_type": "markdown",
   "metadata": {},
   "source": [
    "# Buble Sort\n",
    "\n",
    "This is from the MIT python course"
   ]
  },
  {
   "cell_type": "code",
   "execution_count": 106,
   "metadata": {},
   "outputs": [],
   "source": [
    "def bubble_sort(L):\n",
    "    swap = False\n",
    "    while not swap:\n",
    "        print('bubble sort: ' + str(L))\n",
    "        swap = True\n",
    "        for j in range(1, len(L)):\n",
    "            if L[j-1] > L[j]:\n",
    "                swap = False\n",
    "                temp = L[j]\n",
    "                L[j] = L[j-1]\n",
    "                L[j-1] = temp"
   ]
  },
  {
   "cell_type": "code",
   "execution_count": 108,
   "metadata": {},
   "outputs": [
    {
     "name": "stdout",
     "output_type": "stream",
     "text": [
      "\n",
      "bubble sort: [1, 3, 5, 7, 2, 6, 25, 18, 13]\n",
      "bubble sort: [1, 3, 5, 2, 6, 7, 18, 13, 25]\n",
      "bubble sort: [1, 3, 2, 5, 6, 7, 13, 18, 25]\n",
      "bubble sort: [1, 2, 3, 5, 6, 7, 13, 18, 25]\n",
      "[1, 2, 3, 5, 6, 7, 13, 18, 25]\n"
     ]
    }
   ],
   "source": [
    "testList = [1,3,5,7,2,6,25,18,13]\n",
    "\n",
    "print('')\n",
    "bubble_sort(testList)\n",
    "print(testList)"
   ]
  },
  {
   "cell_type": "markdown",
   "metadata": {},
   "source": [
    "## Random tests\n",
    "to test random things"
   ]
  },
  {
   "cell_type": "code",
   "execution_count": 144,
   "metadata": {},
   "outputs": [
    {
     "name": "stdout",
     "output_type": "stream",
     "text": [
      "2016-10-03 17:00:10\n",
      "<class 'datetime.datetime'>\n",
      "10\n",
      "2087-10-15 00:00:00\n",
      "True\n"
     ]
    }
   ],
   "source": [
    "import string\n",
    "from datetime import datetime\n",
    "\n",
    "t = \"3 Oct 2016 17:00:10\"\n",
    "a = datetime.strptime(t,\"%d %b %Y %H:%M:%S\")\n",
    "print(a)\n",
    "print(type(a))\n",
    "print(a.month)\n",
    "\n",
    "b = datetime(2087, 10, 15)\n",
    "print(b)\n",
    "\n",
    "print(True or False and True)"
   ]
  },
  {
   "cell_type": "code",
   "execution_count": 146,
   "metadata": {},
   "outputs": [
    {
     "name": "stdout",
     "output_type": "stream",
     "text": [
      "['d']\n"
     ]
    }
   ],
   "source": [
    "a = []\n",
    "a += ['d']\n",
    "print(a)"
   ]
  },
  {
   "cell_type": "code",
   "execution_count": null,
   "metadata": {},
   "outputs": [],
   "source": []
  }
 ],
 "metadata": {
  "kernelspec": {
   "display_name": "Python 3",
   "language": "python",
   "name": "python3"
  },
  "language_info": {
   "codemirror_mode": {
    "name": "ipython",
    "version": 3
   },
   "file_extension": ".py",
   "mimetype": "text/x-python",
   "name": "python",
   "nbconvert_exporter": "python",
   "pygments_lexer": "ipython3",
   "version": "3.7.1"
  }
 },
 "nbformat": 4,
 "nbformat_minor": 2
}
