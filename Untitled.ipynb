{
 "cells": [
  {
   "cell_type": "code",
   "execution_count": 7,
   "metadata": {},
   "outputs": [
    {
     "name": "stdout",
     "output_type": "stream",
     "text": [
      "[2, 4, 8, 20]\n",
      "6 0\n",
      "[6, 8, 20]\n",
      "20 0\n",
      "[20, 20]\n",
      "60 0\n"
     ]
    },
    {
     "data": {
      "text/plain": [
       "60"
      ]
     },
     "execution_count": 7,
     "metadata": {},
     "output_type": "execute_result"
    }
   ],
   "source": [
    "def partition(arr,low,high): \n",
    "    i = ( low-1 )         # index of smaller element \n",
    "    pivot = arr[high]     # pivot \n",
    "  \n",
    "    for j in range(low , high): \n",
    "  \n",
    "        # If current element is smaller than or \n",
    "        # equal to pivot \n",
    "        if   arr[j] <= pivot: \n",
    "          \n",
    "            # increment index of smaller element \n",
    "            i = i+1 \n",
    "            arr[i],arr[j] = arr[j],arr[i] \n",
    "  \n",
    "    arr[i+1],arr[high] = arr[high],arr[i+1] \n",
    "    return ( i+1 ) \n",
    "\n",
    "\n",
    "# Function to do Quick sort \n",
    "def quickSort(arr,low,high): \n",
    "    if low < high: \n",
    "  \n",
    "        # pi is partitioning index, arr[p] is now \n",
    "        # at right place \n",
    "        pi = partition(arr,low,high) \n",
    "  \n",
    "        # Separately sort elements before \n",
    "        # partition and after partition \n",
    "        quickSort(arr, low, pi-1) \n",
    "        quickSort(arr, pi+1, high) \n",
    "        \n",
    "        \n",
    "def mini(nums,parts):\n",
    "    arr = parts\n",
    "    res = 0\n",
    "    tot = 0\n",
    "    for n in range(nums - 1):\n",
    "        quickSort(arr,0,nums - 1 - n)\n",
    "        print(arr)\n",
    "        res = res + arr[0] + arr[1]\n",
    "        \n",
    "        print(res,tot)\n",
    "        if n < nums-1:\n",
    "            arr = [res] + parts[n+2:nums]\n",
    "    return res\n",
    "\n",
    "nums = 4\n",
    "parts = [20,4,8,2]\n",
    "mini(nums,parts)\n"
   ]
  },
  {
   "cell_type": "code",
   "execution_count": 15,
   "metadata": {},
   "outputs": [
    {
     "name": "stdout",
     "output_type": "stream",
     "text": [
      "3 2\n",
      "5 4\n",
      "5 6\n"
     ]
    }
   ],
   "source": [
    "a = [[2,3],[4,5]]\n",
    "a = a + [[6,5]]\n",
    "for b in a:\n",
    "    print(b[1],b[0])\n"
   ]
  },
  {
   "cell_type": "code",
   "execution_count": 18,
   "metadata": {},
   "outputs": [
    {
     "data": {
      "text/plain": [
       "[[3, 2], [1, 2]]"
      ]
     },
     "execution_count": 18,
     "metadata": {},
     "output_type": "execute_result"
    }
   ],
   "source": [
    "def opti(maxd,forr,retr):\n",
    "    \n",
    "    l1 = len(forr)\n",
    "    l2 = len(retr)\n",
    "    dop = 0\n",
    "    check = 0\n",
    "    for r1 in forr:\n",
    "        i = r1[0]\n",
    "        d1 = r1[1]\n",
    "        for r2 in retr:\n",
    "            j = r2[0]\n",
    "            d2=r2[1]\n",
    "            \n",
    "            if d1+d2==maxd:\n",
    "                if check == 0:\n",
    "                    r = [[i,j]]\n",
    "                else:\n",
    "                    r = r+[[i,j]]\n",
    "                    check = 1\n",
    "            elif d1+d2>dop and d1+d2<maxd:\n",
    "                dop = d1+d2\n",
    "    if check == 0 and dop > 0:\n",
    "        for r1 in forr:\n",
    "            i = r1[0]\n",
    "            d1 = r1[1] \n",
    "            for r2 in retr:\n",
    "                j = r2[0]\n",
    "                d2=r2[1]\n",
    "                \n",
    "                if d1+d2==dop:\n",
    "                    r = r+ [[i,j]]\n",
    "    return r\n",
    "\n",
    "    pass\n",
    "\n",
    "\n",
    "maxd = 20\n",
    "forr = [[1,8],[2,15],[3,9]]\n",
    "retr = [[1,8],[2,11],[3,12]]\n",
    "\n",
    "opti(maxd,forr,retr)"
   ]
  },
  {
   "cell_type": "code",
   "execution_count": 5,
   "metadata": {},
   "outputs": [
    {
     "name": "stdout",
     "output_type": "stream",
     "text": [
      "abc\n"
     ]
    }
   ],
   "source": [
    "print('AbC'.lower())"
   ]
  },
  {
   "cell_type": "code",
   "execution_count": 7,
   "metadata": {},
   "outputs": [
    {
     "name": "stdout",
     "output_type": "stream",
     "text": [
      "75\n"
     ]
    }
   ],
   "source": [
    "SCRABBLE_LETTER_VALUES = {\n",
    "    'a': 1, 'b': 3, 'c': 3, 'd': 2, 'e': 1, 'f': 4, 'g': 2, 'h': 4, 'i': 1, 'j': 8, 'k': 5, 'l': 1, 'm': 3, 'n': 1, 'o': 1, 'p': 3, 'q': 10, 'r': 1, 's': 1, 't': 1, 'u': 1, 'v': 4, 'w': 4, 'x': 8, 'y': 4, 'z': 10\n",
    "}\n",
    "#print(SCRABBLE_LETTER_VALUES['c'])\n",
    "\n",
    "def get_word_score(word, n):\n",
    "    \n",
    "    word = word.lower()\n",
    "    a = 0\n",
    "    for c in word:\n",
    "        a += SCRABBLE_LETTER_VALUES[c]\n",
    "        \n",
    "    b = 7*len(word) - 3*(n - len(word))\n",
    "    \n",
    "    return a * max(1,b)\n",
    "\n",
    "print(get_word_score('lam',5))\n"
   ]
  },
  {
   "cell_type": "code",
   "execution_count": 8,
   "metadata": {},
   "outputs": [
    {
     "name": "stdout",
     "output_type": "stream",
     "text": [
      "0 1 2 3 4 "
     ]
    }
   ],
   "source": [
    "for x in range(5):\n",
    "    print(x, end = ' ')"
   ]
  },
  {
   "cell_type": "code",
   "execution_count": 15,
   "metadata": {},
   "outputs": [
    {
     "name": "stdout",
     "output_type": "stream",
     "text": [
      "2\n"
     ]
    }
   ],
   "source": [
    "import math\n",
    "print(int(math.ceil(1.1)))"
   ]
  },
  {
   "cell_type": "code",
   "execution_count": 59,
   "metadata": {},
   "outputs": [
    {
     "name": "stdout",
     "output_type": "stream",
     "text": [
      "{'j': 2, 'o': 1, 'l': 10, 'w': 1, 'n': 2}\n",
      "{'j': 2, 'o': 1, 'l': 10, 'w': 1, 'n': 2}\n",
      "{'j': 5, 'o': 1, 'l': 10, 'w': 1, 'n': 2}\n",
      "5\n"
     ]
    }
   ],
   "source": [
    "hand = {'j':2, 'o':1, 'l':10, 'w':1, 'n':2}\n",
    "print(hand)\n",
    "newhand = hand.copy()\n",
    "newhand['j'] = 5\n",
    "print(hand)\n",
    "print(newhand)\n",
    "print(len(hand))\n",
    "# for c in word:\n",
    "#     n = newhand.get(c, 0)\n",
    "#     if n > 0:\n",
    "#         newhand[c] -= 1\n",
    "# print(newhand)\n",
    "# newerhand = {}\n",
    "# for c in newhand:\n",
    "#     if newhand[c] > 0:\n",
    "#         newerhand[c] = newhand[c]\n",
    "# print(newerhand)\n",
    "# print(len(hand))"
   ]
  },
  {
   "cell_type": "code",
   "execution_count": 63,
   "metadata": {},
   "outputs": [
    {
     "name": "stdout",
     "output_type": "stream",
     "text": [
      "jolwn\n"
     ]
    }
   ],
   "source": [
    "a = ''\n",
    "for c in hand:\n",
    "    a += c\n",
    "print(a)"
   ]
  },
  {
   "cell_type": "code",
   "execution_count": 58,
   "metadata": {},
   "outputs": [
    {
     "name": "stdout",
     "output_type": "stream",
     "text": [
      "\"a\"\n"
     ]
    }
   ],
   "source": []
  },
  {
   "cell_type": "code",
   "execution_count": null,
   "metadata": {},
   "outputs": [],
   "source": []
  }
 ],
 "metadata": {
  "kernelspec": {
   "display_name": "Python 3",
   "language": "python",
   "name": "python3"
  },
  "language_info": {
   "codemirror_mode": {
    "name": "ipython",
    "version": 3
   },
   "file_extension": ".py",
   "mimetype": "text/x-python",
   "name": "python",
   "nbconvert_exporter": "python",
   "pygments_lexer": "ipython3",
   "version": "3.7.1"
  }
 },
 "nbformat": 4,
 "nbformat_minor": 2
}
